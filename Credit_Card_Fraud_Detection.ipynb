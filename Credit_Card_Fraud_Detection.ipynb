{
 "cells": [
  {
   "cell_type": "code",
   "execution_count": 1,
   "id": "8c882019-300c-42dc-9066-f51d78b52e91",
   "metadata": {},
   "outputs": [],
   "source": [
    "import numpy as np\n",
    "from scipy import linalg\n",
    "from sklearn.cluster import KMeans\n",
    "from random import shuffle"
   ]
  },
  {
   "cell_type": "code",
   "execution_count": 2,
   "id": "abdb6a80-142b-4b91-8cb6-11f420a3fcdd",
   "metadata": {},
   "outputs": [],
   "source": [
    "class Hidden_Markov_Model:\n",
    "    \n",
    "    def __init__(self,n_states,A,B,initial_distribution=None):\n",
    "        self.n = n_states\n",
    "        self.A = A\n",
    "        self.B = B\n",
    "        if initial_distribution is None:\n",
    "            self.initial_distribution = np.linalg.matrix_power(self.A,2000)[0]\n",
    "        else:\n",
    "            self.initial_distribution = initial_distribution\n",
    "            \n",
    "    \n",
    "    def forward_backward(self,observations):\n",
    "        \n",
    "        alpha = np.zeros((observations.shape[0], self.A.shape[0]))\n",
    "        beta = np.zeros((observations.shape[0], self.A.shape[0]))\n",
    "        \n",
    "        alpha[0, :] = self.initial_distribution * self.B[:, observations[0]]\n",
    "        beta[observations.shape[0] - 1] = np.ones((self.A.shape[0]))\n",
    "\n",
    "        for t in range(1, observations.shape[0]):\n",
    "            for j in range(self.A.shape[0]):\n",
    "                alpha[t, j] = alpha[t - 1].dot(self.A[:, j]) * self.B[j, observations[t]]\n",
    "                \n",
    "        for t in range(observations.shape[0] - 2, -1, -1):\n",
    "            for j in range(self.A.shape[0]):\n",
    "                beta[t, j] = np.dot((beta[t + 1] * self.B[:, observations[t + 1]]),self.A[j, :])\n",
    "\n",
    "\n",
    "        return alpha,beta,np.sum(alpha[-1])\n",
    "    \n",
    "    @staticmethod\n",
    "    def forward_algorithm(observations,A,B,initial_distribution):\n",
    "        alpha = np.zeros((observations.shape[0], A.shape[0]))\n",
    "        alpha[0, :] = initial_distribution * B[:, observations[0]]\n",
    "\n",
    "        for t in range(1, observations.shape[0]):\n",
    "            for j in range(A.shape[0]):\n",
    "                alpha[t, j] = alpha[t - 1].dot(A[:, j]) * B[j, observations[t]]\n",
    "\n",
    "        return alpha\n",
    "    \n",
    "    @staticmethod\n",
    "    def backward_algorithm(observations,A,B):\n",
    "        beta = np.zeros((observations.shape[0], A.shape[0]))\n",
    "        beta[observations.shape[0] - 1] = np.ones((A.shape[0]))\n",
    "\n",
    "        for t in range(observations.shape[0] - 2, -1, -1):\n",
    "            for j in range(A.shape[0]):\n",
    "                beta[t, j] = (beta[t + 1] * B[:, observations[t + 1]]).dot(A[j, :])\n",
    "\n",
    "        return beta\n",
    "\n",
    "        \n",
    "    \n",
    "    def viterbi(self,observations):\n",
    "        \n",
    "        T = int(observations.shape[0])\n",
    "        M = int(self.A.shape[0])\n",
    "\n",
    "        gamma = np.zeros((T,M))\n",
    "        psi = np.zeros((1,T))\n",
    "        gamma[0,:] = self.initial_distribution * self.B[:, observations[0]]\n",
    "        psi[0] = np.argmax(gamma[0,:])\n",
    "\n",
    "        for i in range(1,T):\n",
    "            gamma[i,:] = np.max(gamma[i-1,:])*self.A[np.argmax(gamma[i-1,:]),:]*self.B[:,observations[i]]\n",
    "            psi[:,i] = np.argmax(gamma[i,:])\n",
    "        \n",
    "        psi = psi.astype(int)\n",
    "            \n",
    "        return gamma\n",
    "    \n",
    "    def baum_welch(self,observations,n_iter=1000):\n",
    "        \n",
    "        A = self.A\n",
    "        B = self.B\n",
    "        M = A.shape[0]\n",
    "        T = len(observations)\n",
    "        initial_distribution = self.initial_distribution\n",
    "\n",
    "        for n in range(n_iter):\n",
    "            \n",
    "            alpha = Hidden_Markov_Model.forward_algorithm(observations,A,B,initial_distribution)\n",
    "            beta = Hidden_Markov_Model.backward_algorithm(observations,A,B)\n",
    "           \n",
    "            Eta = np.zeros((M, M, T - 1))\n",
    "            \n",
    "            \n",
    "            for t in range(T - 1):\n",
    "                den = np.dot(np.dot(alpha[t, :].T, A) * B[:, observations[t + 1]].T, beta[t + 1, :])\n",
    "                for i in range(M):\n",
    "                    num = alpha[t, i] * A[i, :] * B[:, observations[t + 1]].T * beta[t + 1, :].T\n",
    "                    Eta[i, :, t] = num / den\n",
    "\n",
    "            gamma = np.sum(Eta, axis=1)\n",
    "            A = np.sum(Eta, 2) / np.sum(gamma, axis=1).reshape((-1, 1))\n",
    "\n",
    "            gamma = np.hstack((gamma, np.sum(Eta[:, :, T - 2], axis=0).reshape((-1, 1))))\n",
    "\n",
    "            K = B.shape[1]\n",
    "            den = np.sum(gamma, axis=1)\n",
    "            for l in range(K):\n",
    "                B[:, l] = np.sum(gamma[:, observations == l], axis=1)\n",
    "\n",
    "            B = np.divide(B, den.reshape((-1, 1)))\n",
    "\n",
    "        return A,B\n"
   ]
  },
  {
   "cell_type": "code",
   "execution_count": 3,
   "id": "99891249-134d-4a0c-b30a-47907829fc88",
   "metadata": {},
   "outputs": [],
   "source": [
    "class FDS:\n",
    "    def __init__(self,n_states,n_observations,Observations):\n",
    "        self.n_states = n_states\n",
    "        self.n_observations = n_observations\n",
    "        self.Observations = Observations\n",
    "        self.clusters = self.Kmeans()[0]\n",
    "        self.pi,self.A,self.B = self.probability_matrices()\n",
    "        self.train_HMM()\n",
    "        \n",
    "    def Kmeans(self,value=None):\n",
    "        kmeans = KMeans(n_clusters=self.n_observations,random_state=140)\n",
    "        kmeans.fit(self.Observations.reshape(-1,1))\n",
    "        if value is not None:\n",
    "            v = kmeans.predict([[value]])[0]\n",
    "        else:\n",
    "            v = None\n",
    "        \n",
    "        return kmeans.labels_,v\n",
    "        \n",
    "        \n",
    "    def probability_matrices(self):\n",
    "        pi_prob = np.zeros(self.n_states)\n",
    "        transition_prob = np.zeros((self.n_states,self.n_states))\n",
    "        emission_prob = np.zeros((self.n_states,self.n_observations))\n",
    "\n",
    "        for i in range(self.n_states):\n",
    "            pi_prob[i] = 1 / self.n_states\n",
    "\n",
    "        for i in range(self.n_states):\n",
    "            for j in range(self.n_states):\n",
    "                transition_prob[i][j] = 1 / self.n_states\n",
    "\n",
    "        for i in range(self.n_states):\n",
    "            for j in range(self.n_observations):\n",
    "                emission_prob[i][j] = 1 / self.n_observations\n",
    "\n",
    "        return pi_prob, transition_prob, emission_prob\n",
    "    \n",
    "    def train_HMM(self):\n",
    "        Hmm = Hidden_Markov_Model(self.n_states,self.A,self.B,initial_distribution=self.pi)\n",
    "        self.A,self.B = Hmm.baum_welch(self.clusters)\n",
    "        self.pi = np.linalg.matrix_power(self.A,2000)[0]\n",
    "        Hmm2 = Hidden_Markov_Model(self.n_states,self.A,self.B,initial_distribution=self.pi)\n",
    "        self.alpha = Hmm2.forward_backward(self.clusters[-10:])[2]\n",
    "    \n",
    "    def test(self,value):\n",
    "        self.clusters = self.Kmeans()[0]\n",
    "        self.train_HMM()\n",
    "        clusters = np.append(self.clusters[-9:],self.Kmeans(value=value)[1])\n",
    "        #print(self.clusters,clusters)\n",
    "        Hmm2 = Hidden_Markov_Model(self.n_states,self.A,self.B,initial_distribution=self.pi)\n",
    "        alpha2 = Hmm2.forward_backward(clusters)[2]\n",
    "        threshold = 0.60\n",
    "        delta = (self.alpha-alpha2)/self.alpha\n",
    "        if delta >= threshold:\n",
    "            print(\"This Transaction is fraud\")\n",
    "        else:\n",
    "            print(\"This Transaction is not fraud\")\n",
    "            self.Observations = np.append(self.Observations,value)\n",
    "            #print(self.Observations)\n",
    "        "
   ]
  },
  {
   "cell_type": "markdown",
   "id": "747c3237",
   "metadata": {},
   "source": [
    "### Transactions from a real credit card"
   ]
  },
  {
   "cell_type": "code",
   "execution_count": 4,
   "id": "e6b5bf27-587c-4382-835f-a8fc0d3d1ce5",
   "metadata": {},
   "outputs": [],
   "source": [
    "Transactions = np.array([15999,975.3,19737,1028.25,599,2070,1152,149,729,591.56,50,599,499,3791.5,2070,1999,100,149,648])"
   ]
  },
  {
   "cell_type": "code",
   "execution_count": 5,
   "id": "0095a45e-e221-4bac-bcf1-539eb4f8634c",
   "metadata": {},
   "outputs": [],
   "source": [
    "fds = FDS(2,3,Transactions)"
   ]
  },
  {
   "cell_type": "code",
   "execution_count": 6,
   "id": "3faf0b41-5e16-4532-8bd5-9580103d07e4",
   "metadata": {},
   "outputs": [
    {
     "name": "stdout",
     "output_type": "stream",
     "text": [
      "This Transaction is not fraud\n"
     ]
    }
   ],
   "source": [
    "fds.test(718.7) # This should not be fraud"
   ]
  },
  {
   "cell_type": "code",
   "execution_count": 7,
   "id": "54083c1f-bbc1-45a2-ab5b-e3046523c1a7",
   "metadata": {},
   "outputs": [
    {
     "name": "stdout",
     "output_type": "stream",
     "text": [
      "This Transaction is not fraud\n"
     ]
    }
   ],
   "source": [
    "fds.test(974) # This should not be fraud"
   ]
  },
  {
   "cell_type": "code",
   "execution_count": 8,
   "id": "19fe4cc8-0c36-4d6c-af63-e516501b4f5d",
   "metadata": {},
   "outputs": [
    {
     "name": "stdout",
     "output_type": "stream",
     "text": [
      "This Transaction is not fraud\n"
     ]
    }
   ],
   "source": [
    "fds.test(455) # This should not be fraud"
   ]
  },
  {
   "cell_type": "code",
   "execution_count": 9,
   "id": "15ca1d0a-691a-40c7-8607-395285ffb7c3",
   "metadata": {},
   "outputs": [
    {
     "name": "stdout",
     "output_type": "stream",
     "text": [
      "This Transaction is fraud\n"
     ]
    }
   ],
   "source": [
    "fds.test(13000) # This should be fraud"
   ]
  },
  {
   "cell_type": "code",
   "execution_count": null,
   "id": "8a88b16a",
   "metadata": {},
   "outputs": [],
   "source": []
  }
 ],
 "metadata": {
  "kernelspec": {
   "display_name": "Python 3",
   "language": "python",
   "name": "python3"
  },
  "language_info": {
   "codemirror_mode": {
    "name": "ipython",
    "version": 3
   },
   "file_extension": ".py",
   "mimetype": "text/x-python",
   "name": "python",
   "nbconvert_exporter": "python",
   "pygments_lexer": "ipython3",
   "version": "3.9.7"
  }
 },
 "nbformat": 4,
 "nbformat_minor": 5
}
